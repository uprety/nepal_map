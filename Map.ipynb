{
 "cells": [
  {
   "cell_type": "code",
   "execution_count": null,
   "metadata": {},
   "outputs": [],
   "source": [
    "import json\n",
    "import pandas as pd\n",
    "import plotly.express as px\n",
    "import plotly.io as pio\n",
    "import matplotlib "
   ]
  },
  {
   "cell_type": "code",
   "execution_count": null,
   "metadata": {},
   "outputs": [],
   "source": [
    "nepal_map = json.load(open(\"nepal.geojson\", 'r'))\n",
    "df = pd.read_csv(\"nepal_population.csv\")"
   ]
  },
  {
   "cell_type": "code",
   "execution_count": null,
   "metadata": {
    "scrolled": true
   },
   "outputs": [],
   "source": [
    "nepal_map['features'][0]['properties']"
   ]
  },
  {
   "cell_type": "code",
   "execution_count": null,
   "metadata": {
    "scrolled": false
   },
   "outputs": [],
   "source": [
    "districts_dict = {}\n",
    "\n",
    "for index, map_feature in enumerate(nepal_map['features']):\n",
    "    map_district = map_feature['properties']['DISTRICT'].lower()\n",
    "    map_feature['properties']['index'] = index    # Instead of using id, a new key named index is used\n",
    "    #map_id = map_feature['properties']['id'] # This is where id is linked from. Id is not unique\n",
    "    districts_dict[map_district] = index\n",
    "\n",
    "print('Total number of districts in jeojson file' , len(districts_dict))\n"
   ]
  },
  {
   "cell_type": "code",
   "execution_count": null,
   "metadata": {},
   "outputs": [],
   "source": [
    "print(districts_dict)"
   ]
  },
  {
   "cell_type": "code",
   "execution_count": null,
   "metadata": {
    "scrolled": false
   },
   "outputs": [],
   "source": [
    "locations = []\n",
    "\n",
    "for index in df.index:\n",
    "    df_district = df['District'][index].lower() \n",
    "    locations.append(districts_dict[df_district])\n",
    "\n",
    "print('Total number of districts in csv file' , len(locations))"
   ]
  },
  {
   "cell_type": "code",
   "execution_count": null,
   "metadata": {
    "scrolled": false
   },
   "outputs": [],
   "source": [
    "# Listing district from geojson which are not present in nepal_population\n",
    "\n",
    "geo_districts = set({*districts_dict}) \n",
    "df_districts = set([x.lower() for x in df['District']])\n",
    "\n",
    "print('Districts not present in csv file:', geo_districts - df_districts)\n"
   ]
  },
  {
   "cell_type": "code",
   "execution_count": null,
   "metadata": {},
   "outputs": [],
   "source": [
    "df['locations'] = locations"
   ]
  },
  {
   "cell_type": "code",
   "execution_count": null,
   "metadata": {
    "scrolled": true
   },
   "outputs": [],
   "source": [
    "df.head()"
   ]
  },
  {
   "cell_type": "code",
   "execution_count": null,
   "metadata": {},
   "outputs": [],
   "source": [
    "fig = px.choropleth(\n",
    "    df, \n",
    "    geojson = nepal_map, \n",
    "    featureidkey = \"properties.index\",\n",
    "    color = 'Pop-2011', \n",
    "    locations = 'locations',\n",
    "    center={\"lat\": 28.097419, \"lon\": 84.545656},\n",
    "    hover_name = 'District',\n",
    "    scope = 'asia')\n"
   ]
  },
  {
   "cell_type": "code",
   "execution_count": null,
   "metadata": {},
   "outputs": [],
   "source": [
    "fig.update_geos(fitbounds=\"locations\", visible=False)"
   ]
  },
  {
   "cell_type": "code",
   "execution_count": null,
   "metadata": {},
   "outputs": [],
   "source": [
    "#fig1 = px.bar(x= df[\"District\"], y =df[\"Pop-1981\"])\n",
    "#fig1.show()"
   ]
  },
  {
   "cell_type": "code",
   "execution_count": null,
   "metadata": {},
   "outputs": [],
   "source": [
    "#fig3 = px.scatter(df[\"Pop-1981\"],df['Area(km)'])\n",
    "#fig3.show()"
   ]
  },
  {
   "cell_type": "code",
   "execution_count": null,
   "metadata": {
    "scrolled": true
   },
   "outputs": [],
   "source": [
    "#fig3 = px.scatter(df[\"Pop-2011\"],df['Area(km)'])\n",
    "#fig3.show()"
   ]
  }
 ],
 "metadata": {
  "kernelspec": {
   "display_name": "Python 3",
   "language": "python",
   "name": "python3"
  },
  "language_info": {
   "codemirror_mode": {
    "name": "ipython",
    "version": 3
   },
   "file_extension": ".py",
   "mimetype": "text/x-python",
   "name": "python",
   "nbconvert_exporter": "python",
   "pygments_lexer": "ipython3",
   "version": "3.8.3"
  }
 },
 "nbformat": 4,
 "nbformat_minor": 4
}
